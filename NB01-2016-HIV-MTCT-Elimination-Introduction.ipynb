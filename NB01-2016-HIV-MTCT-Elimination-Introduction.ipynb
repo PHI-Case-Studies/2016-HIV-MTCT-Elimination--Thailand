{
 "cells": [
  {
   "cell_type": "code",
   "execution_count": 1,
   "metadata": {},
   "outputs": [],
   "source": [
    "%run resources/library.py"
   ]
  },
  {
   "cell_type": "code",
   "execution_count": 2,
   "metadata": {},
   "outputs": [
    {
     "data": {
      "text/html": [
       "<style> \n",
       "div.text_cell_render { /* Customize text cells */ \n",
       "    font-family: 'Arial'; \n",
       "    font-size:20px;\n",
       "    line-height: 1.5em;\n",
       "    padding-left:3em; \n",
       "    padding-right:3em; \n",
       "}\n",
       ".CodeMirror {\n",
       "    font-family:  'Source Code Pro', monospace;\n",
       "    font-size: 18px;\n",
       "}\n",
       "\n",
       "/* Cell output */\n",
       "\n",
       ".rendered_html pre, .rendered_html code {\n",
       "    color: inherit !important;\n",
       "    background-color: inherit !important;\n",
       "}\n",
       "div.output_area pre {\n",
       "    line-height: 1.2em;\n",
       "    color: #93a1a1 !important;\n",
       "    font-family: 'Source Code Pro', monospace;\n",
       "    font-size: 16px;\n",
       "}\n",
       ".rendered_html table, .rendered_html td, .rendered_html th {\n",
       "    border: 1px solid #586e75 !important;\n",
       "    font-family: 'Arial';\n",
       "    font-size: 16px;\n",
       "}\n",
       "</style>"
      ],
      "text/plain": [
       "<IPython.core.display.HTML object>"
      ]
     },
     "execution_count": 2,
     "metadata": {},
     "output_type": "execute_result"
    }
   ],
   "source": [
    "style_notebook()"
   ]
  },
  {
   "cell_type": "markdown",
   "metadata": {},
   "source": [
    "Elimination of  Maternal-to-Child Transmission in Thailand, 2013-2016"
   ]
  },
  {
   "cell_type": "markdown",
   "metadata": {},
   "source": [
    "# Notebook 1: Introduction"
   ]
  },
  {
   "cell_type": "markdown",
   "metadata": {},
   "source": [
    "## Learning Objectives "
   ]
  },
  {
   "cell_type": "markdown",
   "metadata": {},
   "source": [
    "By the end of this digital case study, you will be able to:\n",
    "\n",
    "1. Recall the history of the effort to eliminate MTCT in Thailand\n",
    "2. Using the `ls` command, practice listing files on the current directory of the MTCT Case Study\n",
    "3. Using the Python `pandas` package, prepare data sets for analysis and use\n",
    "4. Using the Python `fuzzywuzzy` package, prepare data sets for algorithmic record linkage\n",
    "5. Using the Python `matplotlib` and `folium` packages, demonstrate MTCT trends in Thai provinces from 2013 to 2016"
   ]
  },
  {
   "cell_type": "markdown",
   "metadata": {},
   "source": [
    "## Introduction"
   ]
  },
  {
   "cell_type": "markdown",
   "metadata": {},
   "source": [
    "In 2015, Cuba became the first country in the world to receive validation from WHO for eliminating mother-to-child transmission (MTCT) of HIV and syphilis. In 2016, Belarus and Thailand were declared by the World Health Organization (WHO) to have eliminated mother-to-child transmission of HIV/AIDS [1]."
   ]
  },
  {
   "cell_type": "markdown",
   "metadata": {},
   "source": [
    "While presenting the validation certificate to Thailand in New York, Dr Poonam Khetrapal Singh, Regional Director, WHO South-East Asia Region, said, “This is a remarkable achievement for a country where thousands of people live with HIV. Thailand’s unwavering commitment to core public health principles has made elimination of mother-to-child transmission of HIV and syphilis a reality, a critical step for rolling back the HIV epidemic. Thailand has demonstrated to the world that HIV can be defeated.” [2] The article below has more information about the challenges in elimination of MTCT in Thailand [3]."
   ]
  },
  {
   "cell_type": "markdown",
   "metadata": {},
   "source": [
    "## Eliminating Maternal to Child Transmission of HIV"
   ]
  },
  {
   "cell_type": "markdown",
   "metadata": {},
   "source": [
    "Below you will find a short video from the US Centers for Disease Control about the effort to eliminate MTCT in Thailand."
   ]
  },
  {
   "cell_type": "code",
   "execution_count": 3,
   "metadata": {},
   "outputs": [
    {
     "data": {
      "text/html": [
       "<iframe src=\"https://www.youtube.com/embed/U3X-ps-KRLs?title=0&byline=0&portrait=0\" width=\"800\" height=\"400\" frameborder=\"0\" webkitallowfullscreen mozallowfullscreen allowfullscreen></iframe>"
      ],
      "text/plain": [
       "<IPython.core.display.HTML object>"
      ]
     },
     "execution_count": 3,
     "metadata": {},
     "output_type": "execute_result"
    }
   ],
   "source": [
    "show_video(\"https://www.youtube.com/embed/U3X-ps-KRLs\")"
   ]
  },
  {
   "cell_type": "markdown",
   "metadata": {},
   "source": [
    "## References"
   ]
  },
  {
   "cell_type": "markdown",
   "metadata": {},
   "source": [
    "1. Editorial: Elimination of mother-to-child transmission of HIV and syphilis in Cuba and Thailand: http://www.who.int/bulletin/volumes/94/11/16-185033/en/\n",
    "2. UNAIDS Press Release: Thailand is the first country in Asia to eliminate Mother-to-Child Transmission of HIV and Syphillis: http://www.unaids.org/en/resources/presscentre/pressreleaseandstatementarchive/2016/june/20160607_Thailand\n",
    "3. Original Article: Elimination of mother-to-child transmission of HIV: lessons learned from success in Thailand, Journal of Pediatrics and International Health: http://www.tandfonline.com/doi/full/10.1080/20469047.2017.1281873\n",
    "4. CDC MMWR: Elimination of Mother-to-Child Transmission of HIV — Thailand: https://www.cdc.gov/mmwr/volumes/65/wr/mm6522a2.htm\n",
    "5. Chiang Rai Times: Thailand Becomes First Country in Asia to Eliminate Mother-to-Child Transmission of HIV: http://www.chiangraitimes.com/thailand-becomes-first-country-in-asia-to-eliminate-mother-to-child-transmission-of-hiv.html\n"
   ]
  },
  {
   "cell_type": "code",
   "execution_count": null,
   "metadata": {},
   "outputs": [],
   "source": []
  }
 ],
 "metadata": {
  "kernelspec": {
   "display_name": "Python 3",
   "language": "python",
   "name": "python3"
  },
  "language_info": {
   "codemirror_mode": {
    "name": "ipython",
    "version": 3
   },
   "file_extension": ".py",
   "mimetype": "text/x-python",
   "name": "python",
   "nbconvert_exporter": "python",
   "pygments_lexer": "ipython3",
   "version": "3.6.8"
  },
  "nbTranslate": {
   "displayLangs": [
    "*"
   ],
   "hotkey": "alt-t",
   "langInMainMenu": true,
   "sourceLang": "en",
   "targetLang": "fr",
   "useGoogleTranslate": true
  },
  "toc": {
   "base_numbering": 1,
   "nav_menu": {},
   "number_sections": false,
   "sideBar": false,
   "skip_h1_title": false,
   "title_cell": "Table of Contents",
   "title_sidebar": "Contents",
   "toc_cell": false,
   "toc_position": {},
   "toc_section_display": false,
   "toc_window_display": false
  },
  "widgets": {
   "application/vnd.jupyter.widget-state+json": {
    "state": {},
    "version_major": 2,
    "version_minor": 0
   }
  }
 },
 "nbformat": 4,
 "nbformat_minor": 2
}
